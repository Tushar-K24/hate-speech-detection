{
  "nbformat": 4,
  "nbformat_minor": 0,
  "metadata": {
    "colab": {
      "provenance": []
    },
    "kernelspec": {
      "name": "python3",
      "display_name": "Python 3"
    },
    "language_info": {
      "name": "python"
    }
  },
  "cells": [
    {
      "cell_type": "code",
      "source": [
        "!pip install bert-embedding"
      ],
      "metadata": {
        "colab": {
          "base_uri": "https://localhost:8080/"
        },
        "id": "0Slv4zx86htY",
        "outputId": "8f502f93-99b0-43db-f16e-3b792c1864c9"
      },
      "execution_count": null,
      "outputs": [
        {
          "output_type": "stream",
          "name": "stdout",
          "text": [
            "Looking in indexes: https://pypi.org/simple, https://us-python.pkg.dev/colab-wheels/public/simple/\n",
            "Requirement already satisfied: torch in /usr/local/lib/python3.8/dist-packages (1.13.0+cu116)\n",
            "Requirement already satisfied: torchvision in /usr/local/lib/python3.8/dist-packages (0.14.0+cu116)\n",
            "Requirement already satisfied: typing-extensions in /usr/local/lib/python3.8/dist-packages (from torch) (4.4.0)\n",
            "Requirement already satisfied: pillow!=8.3.*,>=5.3.0 in /usr/local/lib/python3.8/dist-packages (from torchvision) (7.1.2)\n",
            "Requirement already satisfied: numpy in /usr/local/lib/python3.8/dist-packages (from torchvision) (1.21.6)\n",
            "Requirement already satisfied: requests in /usr/local/lib/python3.8/dist-packages (from torchvision) (2.23.0)\n",
            "Requirement already satisfied: urllib3!=1.25.0,!=1.25.1,<1.26,>=1.21.1 in /usr/local/lib/python3.8/dist-packages (from requests->torchvision) (1.24.3)\n",
            "Requirement already satisfied: idna<3,>=2.5 in /usr/local/lib/python3.8/dist-packages (from requests->torchvision) (2.10)\n",
            "Requirement already satisfied: certifi>=2017.4.17 in /usr/local/lib/python3.8/dist-packages (from requests->torchvision) (2022.12.7)\n",
            "Requirement already satisfied: chardet<4,>=3.0.2 in /usr/local/lib/python3.8/dist-packages (from requests->torchvision) (3.0.4)\n"
          ]
        }
      ]
    },
    {
      "cell_type": "code",
      "source": [
        "from google.colab import drive\n",
        "drive.mount('/content/drive')"
      ],
      "metadata": {
        "id": "M3zf3Nh56nr5",
        "colab": {
          "base_uri": "https://localhost:8080/"
        },
        "outputId": "032135a3-fbcd-444b-e99c-c035a5c4dcca"
      },
      "execution_count": null,
      "outputs": [
        {
          "output_type": "stream",
          "name": "stdout",
          "text": [
            "Mounted at /content/drive\n"
          ]
        }
      ]
    },
    {
      "cell_type": "code",
      "execution_count": null,
      "metadata": {
        "id": "15Usqf0t6eJB",
        "colab": {
          "base_uri": "https://localhost:8080/"
        },
        "outputId": "94364753-8e72-4fef-b06a-f29992372cd8"
      },
      "outputs": [
        {
          "output_type": "stream",
          "name": "stderr",
          "text": [
            "[nltk_data] Downloading package stopwords to /root/nltk_data...\n",
            "[nltk_data]   Unzipping corpora/stopwords.zip.\n",
            "[nltk_data] Downloading package punkt to /root/nltk_data...\n",
            "[nltk_data]   Unzipping tokenizers/punkt.zip.\n",
            "[nltk_data] Downloading package wordnet to /root/nltk_data...\n",
            "[nltk_data] Downloading package omw-1.4 to /root/nltk_data...\n"
          ]
        }
      ],
      "source": [
        "import numpy as np\n",
        "import pandas as pd\n",
        "import matplotlib.pyplot as plt\n",
        "import re\n",
        "\n",
        "from sklearn.model_selection import train_test_split\n",
        "from sklearn.feature_extraction.text import TfidfVectorizer\n",
        "from nltk.stem import PorterStemmer, WordNetLemmatizer\n",
        "from nltk.tokenize import word_tokenize\n",
        "\n",
        "from nltk.corpus import stopwords\n",
        "import nltk\n",
        "\n",
        "nltk.download('stopwords')\n",
        "nltk.download('punkt')\n",
        "nltk.download('wordnet')\n",
        "nltk.download('omw-1.4')\n",
        "\n",
        "stop_words = stopwords.words('english')"
      ]
    },
    {
      "cell_type": "code",
      "source": [
        "ethos_path = '/content/drive/MyDrive/Minor Project/ETHOS_binary.csv'"
      ],
      "metadata": {
        "id": "FIX8xplE99Lt"
      },
      "execution_count": null,
      "outputs": []
    },
    {
      "cell_type": "markdown",
      "source": [
        "# Load Dataset"
      ],
      "metadata": {
        "id": "m_NCbh2J-Mns"
      }
    },
    {
      "cell_type": "code",
      "source": [
        "df = pd.read_csv(ethos_path)\n",
        "df.head()"
      ],
      "metadata": {
        "id": "c1WEFiCS-O4v",
        "colab": {
          "base_uri": "https://localhost:8080/",
          "height": 206
        },
        "outputId": "768a5cb8-95d9-4dba-c4d1-b4e702f6f246"
      },
      "execution_count": null,
      "outputs": [
        {
          "output_type": "execute_result",
          "data": {
            "text/plain": [
              "                                                text  label\n",
              "0          You should know women's sports are a joke      1\n",
              "1    You look like Sloth with deeper Down’s syndrome      1\n",
              "2  You look like Russian and speak like Indian. B...      1\n",
              "3               Women deserve to be abused, I guess.      1\n",
              "4  Women are made for making babies and cooking d...      1"
            ],
            "text/html": [
              "\n",
              "  <div id=\"df-08362f3c-58cb-47f3-9640-01ee706eb9eb\">\n",
              "    <div class=\"colab-df-container\">\n",
              "      <div>\n",
              "<style scoped>\n",
              "    .dataframe tbody tr th:only-of-type {\n",
              "        vertical-align: middle;\n",
              "    }\n",
              "\n",
              "    .dataframe tbody tr th {\n",
              "        vertical-align: top;\n",
              "    }\n",
              "\n",
              "    .dataframe thead th {\n",
              "        text-align: right;\n",
              "    }\n",
              "</style>\n",
              "<table border=\"1\" class=\"dataframe\">\n",
              "  <thead>\n",
              "    <tr style=\"text-align: right;\">\n",
              "      <th></th>\n",
              "      <th>text</th>\n",
              "      <th>label</th>\n",
              "    </tr>\n",
              "  </thead>\n",
              "  <tbody>\n",
              "    <tr>\n",
              "      <th>0</th>\n",
              "      <td>You should know women's sports are a joke</td>\n",
              "      <td>1</td>\n",
              "    </tr>\n",
              "    <tr>\n",
              "      <th>1</th>\n",
              "      <td>You look like Sloth with deeper Down’s syndrome</td>\n",
              "      <td>1</td>\n",
              "    </tr>\n",
              "    <tr>\n",
              "      <th>2</th>\n",
              "      <td>You look like Russian and speak like Indian. B...</td>\n",
              "      <td>1</td>\n",
              "    </tr>\n",
              "    <tr>\n",
              "      <th>3</th>\n",
              "      <td>Women deserve to be abused, I guess.</td>\n",
              "      <td>1</td>\n",
              "    </tr>\n",
              "    <tr>\n",
              "      <th>4</th>\n",
              "      <td>Women are made for making babies and cooking d...</td>\n",
              "      <td>1</td>\n",
              "    </tr>\n",
              "  </tbody>\n",
              "</table>\n",
              "</div>\n",
              "      <button class=\"colab-df-convert\" onclick=\"convertToInteractive('df-08362f3c-58cb-47f3-9640-01ee706eb9eb')\"\n",
              "              title=\"Convert this dataframe to an interactive table.\"\n",
              "              style=\"display:none;\">\n",
              "        \n",
              "  <svg xmlns=\"http://www.w3.org/2000/svg\" height=\"24px\"viewBox=\"0 0 24 24\"\n",
              "       width=\"24px\">\n",
              "    <path d=\"M0 0h24v24H0V0z\" fill=\"none\"/>\n",
              "    <path d=\"M18.56 5.44l.94 2.06.94-2.06 2.06-.94-2.06-.94-.94-2.06-.94 2.06-2.06.94zm-11 1L8.5 8.5l.94-2.06 2.06-.94-2.06-.94L8.5 2.5l-.94 2.06-2.06.94zm10 10l.94 2.06.94-2.06 2.06-.94-2.06-.94-.94-2.06-.94 2.06-2.06.94z\"/><path d=\"M17.41 7.96l-1.37-1.37c-.4-.4-.92-.59-1.43-.59-.52 0-1.04.2-1.43.59L10.3 9.45l-7.72 7.72c-.78.78-.78 2.05 0 2.83L4 21.41c.39.39.9.59 1.41.59.51 0 1.02-.2 1.41-.59l7.78-7.78 2.81-2.81c.8-.78.8-2.07 0-2.86zM5.41 20L4 18.59l7.72-7.72 1.47 1.35L5.41 20z\"/>\n",
              "  </svg>\n",
              "      </button>\n",
              "      \n",
              "  <style>\n",
              "    .colab-df-container {\n",
              "      display:flex;\n",
              "      flex-wrap:wrap;\n",
              "      gap: 12px;\n",
              "    }\n",
              "\n",
              "    .colab-df-convert {\n",
              "      background-color: #E8F0FE;\n",
              "      border: none;\n",
              "      border-radius: 50%;\n",
              "      cursor: pointer;\n",
              "      display: none;\n",
              "      fill: #1967D2;\n",
              "      height: 32px;\n",
              "      padding: 0 0 0 0;\n",
              "      width: 32px;\n",
              "    }\n",
              "\n",
              "    .colab-df-convert:hover {\n",
              "      background-color: #E2EBFA;\n",
              "      box-shadow: 0px 1px 2px rgba(60, 64, 67, 0.3), 0px 1px 3px 1px rgba(60, 64, 67, 0.15);\n",
              "      fill: #174EA6;\n",
              "    }\n",
              "\n",
              "    [theme=dark] .colab-df-convert {\n",
              "      background-color: #3B4455;\n",
              "      fill: #D2E3FC;\n",
              "    }\n",
              "\n",
              "    [theme=dark] .colab-df-convert:hover {\n",
              "      background-color: #434B5C;\n",
              "      box-shadow: 0px 1px 3px 1px rgba(0, 0, 0, 0.15);\n",
              "      filter: drop-shadow(0px 1px 2px rgba(0, 0, 0, 0.3));\n",
              "      fill: #FFFFFF;\n",
              "    }\n",
              "  </style>\n",
              "\n",
              "      <script>\n",
              "        const buttonEl =\n",
              "          document.querySelector('#df-08362f3c-58cb-47f3-9640-01ee706eb9eb button.colab-df-convert');\n",
              "        buttonEl.style.display =\n",
              "          google.colab.kernel.accessAllowed ? 'block' : 'none';\n",
              "\n",
              "        async function convertToInteractive(key) {\n",
              "          const element = document.querySelector('#df-08362f3c-58cb-47f3-9640-01ee706eb9eb');\n",
              "          const dataTable =\n",
              "            await google.colab.kernel.invokeFunction('convertToInteractive',\n",
              "                                                     [key], {});\n",
              "          if (!dataTable) return;\n",
              "\n",
              "          const docLinkHtml = 'Like what you see? Visit the ' +\n",
              "            '<a target=\"_blank\" href=https://colab.research.google.com/notebooks/data_table.ipynb>data table notebook</a>'\n",
              "            + ' to learn more about interactive tables.';\n",
              "          element.innerHTML = '';\n",
              "          dataTable['output_type'] = 'display_data';\n",
              "          await google.colab.output.renderOutput(dataTable, element);\n",
              "          const docLink = document.createElement('div');\n",
              "          docLink.innerHTML = docLinkHtml;\n",
              "          element.appendChild(docLink);\n",
              "        }\n",
              "      </script>\n",
              "    </div>\n",
              "  </div>\n",
              "  "
            ]
          },
          "metadata": {},
          "execution_count": 10
        }
      ]
    },
    {
      "cell_type": "code",
      "source": [
        "stemmer = PorterStemmer()\n",
        "lemmatizer = WordNetLemmatizer()\n",
        "def clean_text(txt):\n",
        "  txt = txt.lower() #lowercase\n",
        "  txt = re.sub(r\"[^a-zA-Z0-9' ]\", ' ', txt) #remove special characters\n",
        "  txt = re.sub(r' +', ' ', txt) #remove extra spaces\n",
        "  txt = [stemmer.stem(word) for word in word_tokenize(txt) if word not in set(stop_words)]\n",
        "  # txt = [lemmatizer.lemmatize(word) for word in word_tokenize(txt) if word not in set(stop_words)]\n",
        "  txt = ' '.join(txt)\n",
        "  return txt"
      ],
      "metadata": {
        "id": "Ds6cvF63zV3g"
      },
      "execution_count": null,
      "outputs": []
    },
    {
      "cell_type": "code",
      "source": [
        "df['cleaned_text'] = df['text'].apply(clean_text)\n",
        "df.head()"
      ],
      "metadata": {
        "id": "l-bQeTOO-xmR",
        "colab": {
          "base_uri": "https://localhost:8080/",
          "height": 206
        },
        "outputId": "1064448e-c030-4a03-8613-15e41e929035"
      },
      "execution_count": null,
      "outputs": [
        {
          "output_type": "execute_result",
          "data": {
            "text/plain": [
              "                                                text  label  \\\n",
              "0          You should know women's sports are a joke      1   \n",
              "1    You look like Sloth with deeper Down’s syndrome      1   \n",
              "2  You look like Russian and speak like Indian. B...      1   \n",
              "3               Women deserve to be abused, I guess.      1   \n",
              "4  Women are made for making babies and cooking d...      1   \n",
              "\n",
              "                                        cleaned_text  \n",
              "0                           know women 's sport joke  \n",
              "1                     look like sloth deeper syndrom  \n",
              "2  look like russian speak like indian disgust go...  \n",
              "3                            women deserv abus guess  \n",
              "4          women made make babi cook dinner noth els  "
            ],
            "text/html": [
              "\n",
              "  <div id=\"df-409fcaeb-66b3-4a90-8364-6198852390c8\">\n",
              "    <div class=\"colab-df-container\">\n",
              "      <div>\n",
              "<style scoped>\n",
              "    .dataframe tbody tr th:only-of-type {\n",
              "        vertical-align: middle;\n",
              "    }\n",
              "\n",
              "    .dataframe tbody tr th {\n",
              "        vertical-align: top;\n",
              "    }\n",
              "\n",
              "    .dataframe thead th {\n",
              "        text-align: right;\n",
              "    }\n",
              "</style>\n",
              "<table border=\"1\" class=\"dataframe\">\n",
              "  <thead>\n",
              "    <tr style=\"text-align: right;\">\n",
              "      <th></th>\n",
              "      <th>text</th>\n",
              "      <th>label</th>\n",
              "      <th>cleaned_text</th>\n",
              "    </tr>\n",
              "  </thead>\n",
              "  <tbody>\n",
              "    <tr>\n",
              "      <th>0</th>\n",
              "      <td>You should know women's sports are a joke</td>\n",
              "      <td>1</td>\n",
              "      <td>know women 's sport joke</td>\n",
              "    </tr>\n",
              "    <tr>\n",
              "      <th>1</th>\n",
              "      <td>You look like Sloth with deeper Down’s syndrome</td>\n",
              "      <td>1</td>\n",
              "      <td>look like sloth deeper syndrom</td>\n",
              "    </tr>\n",
              "    <tr>\n",
              "      <th>2</th>\n",
              "      <td>You look like Russian and speak like Indian. B...</td>\n",
              "      <td>1</td>\n",
              "      <td>look like russian speak like indian disgust go...</td>\n",
              "    </tr>\n",
              "    <tr>\n",
              "      <th>3</th>\n",
              "      <td>Women deserve to be abused, I guess.</td>\n",
              "      <td>1</td>\n",
              "      <td>women deserv abus guess</td>\n",
              "    </tr>\n",
              "    <tr>\n",
              "      <th>4</th>\n",
              "      <td>Women are made for making babies and cooking d...</td>\n",
              "      <td>1</td>\n",
              "      <td>women made make babi cook dinner noth els</td>\n",
              "    </tr>\n",
              "  </tbody>\n",
              "</table>\n",
              "</div>\n",
              "      <button class=\"colab-df-convert\" onclick=\"convertToInteractive('df-409fcaeb-66b3-4a90-8364-6198852390c8')\"\n",
              "              title=\"Convert this dataframe to an interactive table.\"\n",
              "              style=\"display:none;\">\n",
              "        \n",
              "  <svg xmlns=\"http://www.w3.org/2000/svg\" height=\"24px\"viewBox=\"0 0 24 24\"\n",
              "       width=\"24px\">\n",
              "    <path d=\"M0 0h24v24H0V0z\" fill=\"none\"/>\n",
              "    <path d=\"M18.56 5.44l.94 2.06.94-2.06 2.06-.94-2.06-.94-.94-2.06-.94 2.06-2.06.94zm-11 1L8.5 8.5l.94-2.06 2.06-.94-2.06-.94L8.5 2.5l-.94 2.06-2.06.94zm10 10l.94 2.06.94-2.06 2.06-.94-2.06-.94-.94-2.06-.94 2.06-2.06.94z\"/><path d=\"M17.41 7.96l-1.37-1.37c-.4-.4-.92-.59-1.43-.59-.52 0-1.04.2-1.43.59L10.3 9.45l-7.72 7.72c-.78.78-.78 2.05 0 2.83L4 21.41c.39.39.9.59 1.41.59.51 0 1.02-.2 1.41-.59l7.78-7.78 2.81-2.81c.8-.78.8-2.07 0-2.86zM5.41 20L4 18.59l7.72-7.72 1.47 1.35L5.41 20z\"/>\n",
              "  </svg>\n",
              "      </button>\n",
              "      \n",
              "  <style>\n",
              "    .colab-df-container {\n",
              "      display:flex;\n",
              "      flex-wrap:wrap;\n",
              "      gap: 12px;\n",
              "    }\n",
              "\n",
              "    .colab-df-convert {\n",
              "      background-color: #E8F0FE;\n",
              "      border: none;\n",
              "      border-radius: 50%;\n",
              "      cursor: pointer;\n",
              "      display: none;\n",
              "      fill: #1967D2;\n",
              "      height: 32px;\n",
              "      padding: 0 0 0 0;\n",
              "      width: 32px;\n",
              "    }\n",
              "\n",
              "    .colab-df-convert:hover {\n",
              "      background-color: #E2EBFA;\n",
              "      box-shadow: 0px 1px 2px rgba(60, 64, 67, 0.3), 0px 1px 3px 1px rgba(60, 64, 67, 0.15);\n",
              "      fill: #174EA6;\n",
              "    }\n",
              "\n",
              "    [theme=dark] .colab-df-convert {\n",
              "      background-color: #3B4455;\n",
              "      fill: #D2E3FC;\n",
              "    }\n",
              "\n",
              "    [theme=dark] .colab-df-convert:hover {\n",
              "      background-color: #434B5C;\n",
              "      box-shadow: 0px 1px 3px 1px rgba(0, 0, 0, 0.15);\n",
              "      filter: drop-shadow(0px 1px 2px rgba(0, 0, 0, 0.3));\n",
              "      fill: #FFFFFF;\n",
              "    }\n",
              "  </style>\n",
              "\n",
              "      <script>\n",
              "        const buttonEl =\n",
              "          document.querySelector('#df-409fcaeb-66b3-4a90-8364-6198852390c8 button.colab-df-convert');\n",
              "        buttonEl.style.display =\n",
              "          google.colab.kernel.accessAllowed ? 'block' : 'none';\n",
              "\n",
              "        async function convertToInteractive(key) {\n",
              "          const element = document.querySelector('#df-409fcaeb-66b3-4a90-8364-6198852390c8');\n",
              "          const dataTable =\n",
              "            await google.colab.kernel.invokeFunction('convertToInteractive',\n",
              "                                                     [key], {});\n",
              "          if (!dataTable) return;\n",
              "\n",
              "          const docLinkHtml = 'Like what you see? Visit the ' +\n",
              "            '<a target=\"_blank\" href=https://colab.research.google.com/notebooks/data_table.ipynb>data table notebook</a>'\n",
              "            + ' to learn more about interactive tables.';\n",
              "          element.innerHTML = '';\n",
              "          dataTable['output_type'] = 'display_data';\n",
              "          await google.colab.output.renderOutput(dataTable, element);\n",
              "          const docLink = document.createElement('div');\n",
              "          docLink.innerHTML = docLinkHtml;\n",
              "          element.appendChild(docLink);\n",
              "        }\n",
              "      </script>\n",
              "    </div>\n",
              "  </div>\n",
              "  "
            ]
          },
          "metadata": {},
          "execution_count": 12
        }
      ]
    },
    {
      "cell_type": "code",
      "source": [
        "mx = 0\n",
        "bigtext = \"\"\n",
        "for txt in df['cleaned_text']:\n",
        "  if len(txt.split(' ')) > mx:\n",
        "    mx = len(txt.split(' '))\n",
        "    bigtext = txt\n",
        "\n",
        "bigtext"
      ],
      "metadata": {
        "id": "AlpTya9RxNyb",
        "colab": {
          "base_uri": "https://localhost:8080/",
          "height": 123
        },
        "outputId": "e2551178-50c9-4db2-f385-2d94628ed35a"
      },
      "execution_count": null,
      "outputs": [
        {
          "output_type": "execute_result",
          "data": {
            "text/plain": [
              "'need nazi parti return get anoth hitler form ss start ethnic cleans muslim ye ye gather put concentr camp put muslim refuge ship send back thier countri want live thier way thier ridicul law assimil new western countri tri dictat us even remov jesu school public area fuck seriou fuck dirti smell muslim stop dictat cant countri peopl power must rise say enough enough take sweden back swede take greec back greek take germani back take poland back take denmark back save countri take europ back introduc ss style polic clean street ghetto full dirti muslim govern fault allow th shit happen send militari send brutal polic start clean countri europ muslim invad europ allow happen ancient time even 100 year ago islam invad europ would war bring back crusad ss style nazi polic must unit stand protect democrat countri law way elimin islam throw dirti smell muslim anim send back countri live wish fuck goat rape women fuck disgust muslim low life dirti race islam nit god religion cult ridicul uneth imor cult satin work satin preach god creator univers preach kill infidel kill non believ 3 4 5 wive commit pedophilia marri 9 year old littl girl muslim never contribut human never invent anyth noth posit come islam creat noth invent noth contribut noth human race muslim live western democrat countri enjoy way milk welfar system ruin countri creat problem fight steal creat crime scare peopl tr6 chage western way life even rape women fuck cocksuck burn impal must fight back unit clean europ soon god send true messeng planet earth god send clear messag human muslim peopl feel wrath god suffer consequ muslim suffer lose invas european win take back europ begin new crusad christian vs islam crusad islam need fight protect way life democrat societi'"
            ],
            "application/vnd.google.colaboratory.intrinsic+json": {
              "type": "string"
            }
          },
          "metadata": {},
          "execution_count": 13
        }
      ]
    },
    {
      "cell_type": "markdown",
      "source": [
        "# Sentence to Vector "
      ],
      "metadata": {
        "id": "uGjAsFF7xOjA"
      }
    },
    {
      "cell_type": "code",
      "source": [
        "class TfidfEmbedding():\n",
        "  def __init__(self, ngram_range = (1,3), max_features = 1000):\n",
        "    self.tfidf = TfidfVectorizer(ngram_range = ngram_range, max_features = max_features)\n",
        "    \n",
        "  def CreateSentenceEmbeddings(self, corpus, train = True):\n",
        "    if train == True:\n",
        "      embedded_vector = self.tfidf.fit_transform(corpus)\n",
        "    else:\n",
        "      embedded_vector = self.tfidf.transform(corpus)\n",
        "    return embedded_vector"
      ],
      "metadata": {
        "id": "4HKmkWYwy3hm"
      },
      "execution_count": null,
      "outputs": []
    },
    {
      "cell_type": "code",
      "source": [
        "encoder = TfidfEmbedding() #initialize encoder\n",
        "\n",
        "#splitting training and testing set\n",
        "train_corpus, test_corpus, train_labels, test_labels = train_test_split(df['cleaned_text'], np.array(df['label']), test_size=0.33, random_state=0)\n",
        "train_corpus = encoder.CreateSentenceEmbeddings(train_corpus, train=True)\n",
        "test_corpus = encoder.CreateSentenceEmbeddings(test_corpus, train = False)\n",
        "print(train_corpus.shape, test_corpus.shape)\n",
        "print(train_labels.shape, test_labels.shape)"
      ],
      "metadata": {
        "colab": {
          "base_uri": "https://localhost:8080/"
        },
        "id": "VKFJLe62Hp16",
        "outputId": "cfad4ebd-c2a2-4ccb-b0c0-816d2ebba22b"
      },
      "execution_count": null,
      "outputs": [
        {
          "output_type": "stream",
          "name": "stdout",
          "text": [
            "(668, 1000) (330, 1000)\n",
            "(668,) (330,)\n"
          ]
        }
      ]
    },
    {
      "cell_type": "code",
      "source": [],
      "metadata": {
        "id": "8zew21p8J6Bt"
      },
      "execution_count": null,
      "outputs": []
    },
    {
      "cell_type": "markdown",
      "source": [
        "# Model Training"
      ],
      "metadata": {
        "id": "3J__FamcLERT"
      }
    },
    {
      "cell_type": "code",
      "source": [
        "from sklearn.svm import SVC\n",
        "from sklearn.linear_model import LogisticRegression\n",
        "from sklearn.ensemble import RandomForestClassifier, GradientBoostingClassifier"
      ],
      "metadata": {
        "id": "6ou920mAS-hJ"
      },
      "execution_count": null,
      "outputs": []
    },
    {
      "cell_type": "code",
      "source": [
        "def accuracy(y, y_hat):\n",
        "  assert(y.shape == y_hat.shape) #check if same shape\n",
        "  \n",
        "  #find tp, tn, fp, fn\n",
        "  tp = ((y==1) & (y_hat==1)).sum()\n",
        "  tn = ((y==0) & (y_hat==0)).sum()\n",
        "  fp = ((y==0) & (y_hat==1)).sum()\n",
        "  fn = ((y==1) & (y_hat==0)).sum()\n",
        "  epsilon = 1e-5\n",
        "\n",
        "  def accuracy():\n",
        "    return (tp + tn)/(y.shape[0] + epsilon) \n",
        "\n",
        "  def precision():\n",
        "    return tp/(tp + fp + epsilon)\n",
        "  \n",
        "  def recall():\n",
        "    return tp/(tp + fn + epsilon)\n",
        "\n",
        "  def f1():\n",
        "    p = precision()\n",
        "    r = recall()\n",
        "    return 2*p*r/(p + r)\n",
        "\n",
        "  return {\n",
        "      'accuracy': accuracy(),\n",
        "      'precision': precision(),\n",
        "      'recall': recall(),\n",
        "      'f1-score': f1()\n",
        "  }"
      ],
      "metadata": {
        "id": "chPGf4a_UAiB"
      },
      "execution_count": null,
      "outputs": []
    },
    {
      "cell_type": "code",
      "source": [
        "#SVM\n",
        "class SVM():\n",
        "  def __init__(self):\n",
        "    self.svm = SVC(random_state = 0)\n",
        "\n",
        "  def train(self, X, y):\n",
        "      self.svm.fit(X, y)\n",
        "  \n",
        "  def predict(self, X):\n",
        "      return self.svm.predict(X)\n",
        "\n",
        "#Logistic Regression\n",
        "class Logistic_Regression():\n",
        "  def __init__(self):\n",
        "    self.clf = LogisticRegression(random_state = 0)\n",
        "\n",
        "  def train(self, X, y):\n",
        "    self.clf.fit(X,y)\n",
        "  \n",
        "  def predict(self, X):\n",
        "    return self.clf.predict(X)\n",
        "\n",
        "#Random Forest \n",
        "class Random_Forest():\n",
        "  def __init__(self):\n",
        "    self.clf = RandomForestClassifier(random_state = 0)\n",
        "\n",
        "  def train(self, X, y):\n",
        "    self.clf.fit(X,y)\n",
        "\n",
        "  def predict(self, X):\n",
        "    return self.clf.predict(X)\n",
        "\n",
        "#Gradient Boost\n",
        "class Gradient_Boost():\n",
        "  def __init__(self):\n",
        "    self.clf = GradientBoostingClassifier(random_state = 0)\n",
        "\n",
        "  def train(self, X, y):\n",
        "    self.clf.fit(X,y)\n",
        "\n",
        "  def predict(self, X):\n",
        "    return self.clf.predict(X)\n"
      ],
      "metadata": {
        "id": "wotnEC8-SWNc"
      },
      "execution_count": null,
      "outputs": []
    },
    {
      "cell_type": "code",
      "source": [
        "#initialize model\n",
        "# model = SVM()\n",
        "# model = Logistic_Regression() \n",
        "# model = Random_Forest()\n",
        "model = Gradient_Boost()"
      ],
      "metadata": {
        "id": "9__0P_G0T0YS"
      },
      "execution_count": null,
      "outputs": []
    },
    {
      "cell_type": "code",
      "source": [
        "model.train(train_corpus, train_labels)"
      ],
      "metadata": {
        "id": "QZ84Diu8T19r"
      },
      "execution_count": null,
      "outputs": []
    },
    {
      "cell_type": "code",
      "source": [
        "y_hat = model.predict(test_corpus)\n",
        "accuracy(test_labels, y_hat)"
      ],
      "metadata": {
        "id": "IOi11GQTVZbV",
        "colab": {
          "base_uri": "https://localhost:8080/"
        },
        "outputId": "499fd6da-4e3c-4c49-b4d3-01d375e7ec4e"
      },
      "execution_count": null,
      "outputs": [
        {
          "output_type": "execute_result",
          "data": {
            "text/plain": [
              "{'accuracy': 0.6424242229568418,\n",
              " 'precision': 0.5909090371900875,\n",
              " 'recall': 0.47101445862214064,\n",
              " 'f1-score': 0.524193506113427}"
            ]
          },
          "metadata": {},
          "execution_count": 21
        }
      ]
    },
    {
      "cell_type": "code",
      "source": [],
      "metadata": {
        "id": "Li07es-hOYYg"
      },
      "execution_count": null,
      "outputs": []
    }
  ]
}